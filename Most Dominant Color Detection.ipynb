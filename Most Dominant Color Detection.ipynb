{
 "cells": [
  {
   "cell_type": "code",
   "execution_count": 1,
   "id": "f5e5492f",
   "metadata": {},
   "outputs": [],
   "source": [
    "import cv2\n",
    "import numpy as np\n",
    "import matplotlib.pyplot as plt\n",
    "from sklearn.cluster import KMeans\n",
    "import imutils\n"
   ]
  },
  {
   "cell_type": "code",
   "execution_count": 2,
   "id": "84cea967",
   "metadata": {},
   "outputs": [],
   "source": [
    "clusters = 5 # try changing it"
   ]
  },
  {
   "cell_type": "code",
   "execution_count": 3,
   "id": "27a01684",
   "metadata": {},
   "outputs": [
    {
     "name": "stdout",
     "output_type": "stream",
     "text": [
      "Org image shape -->  (900, 675, 3)\n"
     ]
    }
   ],
   "source": [
    "img = cv2.imread(\"D:/CIT/Internship projects/New folder/image.png\")\n",
    "org_img = img.copy()\n",
    "print('Org image shape --> ',img.shape)\n",
    "# rows = 200\n",
    "# cols = int((img.shape[0]/img.shape[1])*rows)"
   ]
  },
  {
   "cell_type": "code",
   "execution_count": 4,
   "id": "d3309ab4",
   "metadata": {},
   "outputs": [],
   "source": [
    "img = imutils.resize(img,height=200)"
   ]
  },
  {
   "cell_type": "code",
   "execution_count": 5,
   "id": "9e5724f2",
   "metadata": {},
   "outputs": [
    {
     "name": "stdout",
     "output_type": "stream",
     "text": [
      "After resizing shape -->  (200, 150, 3)\n"
     ]
    }
   ],
   "source": [
    "# img = cv2.resize(img,dsize=(rows,cols),interpolation=cv2.INTER_LINEAR)\n",
    "print('After resizing shape --> ',img.shape)"
   ]
  },
  {
   "cell_type": "code",
   "execution_count": 6,
   "id": "7b2eb99c",
   "metadata": {},
   "outputs": [
    {
     "name": "stdout",
     "output_type": "stream",
     "text": [
      "After Flattening shape -->  (30000, 3)\n"
     ]
    }
   ],
   "source": [
    "flat_img = np.reshape(img,(-1,3))\n",
    "print('After Flattening shape --> ',flat_img.shape)"
   ]
  },
  {
   "cell_type": "code",
   "execution_count": 7,
   "id": "8c419aaa",
   "metadata": {},
   "outputs": [
    {
     "data": {
      "text/plain": [
       "KMeans(n_clusters=5, random_state=0)"
      ]
     },
     "execution_count": 7,
     "metadata": {},
     "output_type": "execute_result"
    }
   ],
   "source": [
    "kmeans = KMeans(n_clusters=clusters,random_state=0)\n",
    "kmeans.fit(flat_img)\n"
   ]
  },
  {
   "cell_type": "code",
   "execution_count": 8,
   "id": "f107fc3a",
   "metadata": {},
   "outputs": [],
   "source": [
    "dominant_colors = np.array(kmeans.cluster_centers_,dtype='uint')\n"
   ]
  },
  {
   "cell_type": "code",
   "execution_count": 9,
   "id": "56f30195",
   "metadata": {},
   "outputs": [],
   "source": [
    "percentages = (np.unique(kmeans.labels_,return_counts=True)[1])/flat_img.shape[0]\n",
    "p_and_c = zip(percentages,dominant_colors)\n",
    "p_and_c = sorted(p_and_c,reverse=True)"
   ]
  },
  {
   "cell_type": "code",
   "execution_count": 10,
   "id": "ffa4b69e",
   "metadata": {},
   "outputs": [
    {
     "data": {
      "image/png": "[encoded data removed]",
      "text/plain": [
       "<Figure size 864x576 with 5 Axes>"
      ]
     },
     "metadata": {},
     "output_type": "display_data"
    }
   ],
   "source": [
    "block = np.ones((50,50,3),dtype='uint')\n",
    "plt.figure(figsize=(12,8))\n",
    "for i in range(clusters):\n",
    "    plt.subplot(1,clusters,i+1)\n",
    "    block[:] = p_and_c[i][1][::-1] # we have done this to convert bgr(opencv) to rgb(matplotlib) \n",
    "    plt.imshow(block)\n",
    "    plt.xticks([])\n",
    "    plt.yticks([])\n",
    "    plt.xlabel(str(round(p_and_c[i][0]*100,2))+'%')"
   ]
  },
  {
   "cell_type": "code",
   "execution_count": 11,
   "id": "64b1131f",
   "metadata": {},
   "outputs": [
    {
     "data": {
      "text/plain": [
       "([], [])"
      ]
     },
     "execution_count": 11,
     "metadata": {},
     "output_type": "execute_result"
    },
    {
     "data": {
      "image/png": "[encoded data removed]",
      "text/plain": [
       "<Figure size 864x576 with 1 Axes>"
      ]
     },
     "metadata": {},
     "output_type": "display_data"
    }
   ],
   "source": [
    "bar = np.ones((50,500,3),dtype='uint')\n",
    "plt.figure(figsize=(12,8))\n",
    "plt.title('Proportions of colors in the image')\n",
    "start = 0\n",
    "i = 1\n",
    "for p,c in p_and_c:\n",
    "    end = start+int(p*bar.shape[1])\n",
    "    if i==clusters:\n",
    "        bar[:,start:] = c[::-1]\n",
    "    else:\n",
    "        bar[:,start:end] = c[::-1]\n",
    "    start = end\n",
    "    i+=1\n",
    "\n",
    "plt.imshow(bar)\n",
    "plt.xticks([])\n",
    "plt.yticks([])"
   ]
  },
  {
   "cell_type": "code",
   "execution_count": 12,
   "id": "3fdcc16e",
   "metadata": {},
   "outputs": [],
   "source": [
    "rows = 1000\n",
    "cols = int((org_img.shape[0]/org_img.shape[1])*rows)\n",
    "img = cv2.resize(org_img,dsize=(rows,cols),interpolation=cv2.INTER_LINEAR)"
   ]
  },
  {
   "cell_type": "code",
   "execution_count": 13,
   "id": "17744bbe",
   "metadata": {},
   "outputs": [
    {
     "data": {
      "text/plain": [
       "array([[[29, 20,  1],\n",
       "        [30, 20,  1],\n",
       "        [31, 20,  1],\n",
       "        ...,\n",
       "        [38, 30,  7],\n",
       "        [38, 30,  7],\n",
       "        [38, 30,  7]],\n",
       "\n",
       "       [[29, 19,  1],\n",
       "        [30, 20,  1],\n",
       "        [31, 20,  1],\n",
       "        ...,\n",
       "        [37, 29,  6],\n",
       "        [37, 29,  6],\n",
       "        [37, 29,  6]],\n",
       "\n",
       "       [[29, 18,  1],\n",
       "        [30, 20,  1],\n",
       "        [31, 20,  1],\n",
       "        ...,\n",
       "        [37, 29,  6],\n",
       "        [37, 29,  6],\n",
       "        [37, 29,  6]],\n",
       "\n",
       "       ...,\n",
       "\n",
       "       [[65, 46,  9],\n",
       "        [63, 44,  8],\n",
       "        [52, 35,  7],\n",
       "        ...,\n",
       "        [66, 52, 14],\n",
       "        [75, 63, 16],\n",
       "        [75, 63, 15]],\n",
       "\n",
       "       [[64, 44, 10],\n",
       "        [69, 50, 13],\n",
       "        [61, 45, 12],\n",
       "        ...,\n",
       "        [51, 32, 10],\n",
       "        [59, 42, 12],\n",
       "        [62, 44, 11]],\n",
       "\n",
       "       [[62, 39, 11],\n",
       "        [72, 53, 16],\n",
       "        [69, 53, 17],\n",
       "        ...,\n",
       "        [35, 12,  3],\n",
       "        [41, 18,  4],\n",
       "        [45, 22,  4]]], dtype=uint8)"
      ]
     },
     "execution_count": 13,
     "metadata": {},
     "output_type": "execute_result"
    }
   ],
   "source": [
    "copy = img.copy()\n",
    "cv2.rectangle(copy,(rows//2-250,cols//2-90),(rows//2+250,cols//2+110),(255,255,255),-1)"
   ]
  },
  {
   "cell_type": "code",
   "execution_count": 14,
   "id": "7a67a455",
   "metadata": {},
   "outputs": [
    {
     "data": {
      "text/plain": [
       "array([[[29, 20,  1],\n",
       "        [30, 20,  1],\n",
       "        [31, 20,  1],\n",
       "        ...,\n",
       "        [38, 30,  7],\n",
       "        [38, 30,  7],\n",
       "        [38, 30,  7]],\n",
       "\n",
       "       [[29, 19,  1],\n",
       "        [30, 20,  1],\n",
       "        [31, 20,  1],\n",
       "        ...,\n",
       "        [37, 29,  6],\n",
       "        [37, 29,  6],\n",
       "        [37, 29,  6]],\n",
       "\n",
       "       [[29, 18,  1],\n",
       "        [30, 20,  1],\n",
       "        [31, 20,  1],\n",
       "        ...,\n",
       "        [37, 29,  6],\n",
       "        [37, 29,  6],\n",
       "        [37, 29,  6]],\n",
       "\n",
       "       ...,\n",
       "\n",
       "       [[65, 46,  9],\n",
       "        [63, 44,  8],\n",
       "        [52, 35,  7],\n",
       "        ...,\n",
       "        [66, 52, 14],\n",
       "        [75, 63, 16],\n",
       "        [75, 63, 15]],\n",
       "\n",
       "       [[64, 44, 10],\n",
       "        [69, 50, 13],\n",
       "        [61, 45, 12],\n",
       "        ...,\n",
       "        [51, 32, 10],\n",
       "        [59, 42, 12],\n",
       "        [62, 44, 11]],\n",
       "\n",
       "       [[62, 39, 11],\n",
       "        [72, 53, 16],\n",
       "        [69, 53, 17],\n",
       "        ...,\n",
       "        [35, 12,  3],\n",
       "        [41, 18,  4],\n",
       "        [45, 22,  4]]], dtype=uint8)"
      ]
     },
     "execution_count": 14,
     "metadata": {},
     "output_type": "execute_result"
    }
   ],
   "source": [
    "final = cv2.addWeighted(img,0.1,copy,0.9,0)\n",
    "cv2.putText(final,'Most Dominant Colors in the Image',(rows//2-230,cols//2-40),cv2.FONT_HERSHEY_DUPLEX,0.8,(0,0,0),1,cv2.LINE_AA)"
   ]
  },
  {
   "cell_type": "code",
   "execution_count": 15,
   "id": "adada009",
   "metadata": {},
   "outputs": [],
   "source": [
    "start = rows//2-220\n",
    "for i in range(5):\n",
    "    end = start+70\n",
    "    final[cols//2:cols//2+70,start:end] = p_and_c[i][1]\n",
    "    cv2.putText(final,str(i+1),(start+25,cols//2+45),cv2.FONT_HERSHEY_DUPLEX,1,(255,255,255),1,cv2.LINE_AA)\n",
    "    start = end+20\n",
    "\n",
    "plt.show()\n"
   ]
  },
  {
   "cell_type": "code",
   "execution_count": null,
   "id": "93d6db0a",
   "metadata": {},
   "outputs": [],
   "source": [
    "cv2.imshow('img',final)\n",
    "cv2.waitKey(0)\n",
    "cv2.destroyAllWindows()\n",
    "cv2.imwrite('output.png',final)\n"
   ]
  }
 ],
 "metadata": {
  "kernelspec": {
   "display_name": "Python 3 (ipykernel)",
   "language": "python",
   "name": "python3"
  },
  "language_info": {
   "codemirror_mode": {
    "name": "ipython",
    "version": 3
   },
   "file_extension": ".py",
   "mimetype": "text/x-python",
   "name": "python",
   "nbconvert_exporter": "python",
   "pygments_lexer": "ipython3",
   "version": "3.9.12"
  }
 },
 "nbformat": 4,
 "nbformat_minor": 5
}
